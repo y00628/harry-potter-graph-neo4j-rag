{
 "cells": [
  {
   "cell_type": "code",
   "execution_count": 11,
   "metadata": {},
   "outputs": [],
   "source": [
    "from dotenv import load_dotenv\n",
    "import os\n",
    "from neo4j import GraphDatabase\n",
    "import pandas as pd\n",
    "\n",
    "#from langchain_community.graphs import Neo4jGraph\n",
    "\n",
    "# Warning control\n",
    "import warnings\n",
    "warnings.filterwarnings(\"ignore\")"
   ]
  },
  {
   "cell_type": "markdown",
   "metadata": {},
   "source": [
    "### Neo4j Credentials"
   ]
  },
  {
   "cell_type": "code",
   "execution_count": 13,
   "metadata": {},
   "outputs": [
    {
     "name": "stdout",
     "output_type": "stream",
     "text": [
      "The dotenv extension is already loaded. To reload it, use:\n",
      "  %reload_ext dotenv\n"
     ]
    }
   ],
   "source": [
    "%load_ext dotenv\n",
    "%dotenv"
   ]
  },
  {
   "cell_type": "code",
   "execution_count": 18,
   "metadata": {},
   "outputs": [],
   "source": [
    "NEO4J_URI = os.getenv('NEO4J_URI')\n",
    "NEO4J_USERNAME = os.getenv('NEO4J_USERNAME')\n",
    "NEO4J_PASSWORD = os.getenv('NEO4J_PASSWORD')"
   ]
  },
  {
   "cell_type": "markdown",
   "metadata": {},
   "source": [
    "### Connecting to Neo4j"
   ]
  },
  {
   "cell_type": "code",
   "execution_count": 19,
   "metadata": {},
   "outputs": [],
   "source": [
    "URI = NEO4J_URI\n",
    "AUTH = (NEO4J_USERNAME, NEO4J_PASSWORD)"
   ]
  },
  {
   "cell_type": "code",
   "execution_count": 21,
   "metadata": {},
   "outputs": [],
   "source": [
    "with GraphDatabase.driver(URI, auth=AUTH) as driver:\n",
    "    driver.verify_connectivity()"
   ]
  },
  {
   "cell_type": "code",
   "execution_count": 14,
   "metadata": {},
   "outputs": [
    {
     "data": {
      "text/html": [
       "<div>\n",
       "<style scoped>\n",
       "    .dataframe tbody tr th:only-of-type {\n",
       "        vertical-align: middle;\n",
       "    }\n",
       "\n",
       "    .dataframe tbody tr th {\n",
       "        vertical-align: top;\n",
       "    }\n",
       "\n",
       "    .dataframe thead th {\n",
       "        text-align: right;\n",
       "    }\n",
       "</style>\n",
       "<table border=\"1\" class=\"dataframe\">\n",
       "  <thead>\n",
       "    <tr style=\"text-align: right;\">\n",
       "      <th></th>\n",
       "      <th>name</th>\n",
       "      <th>friend</th>\n",
       "      <th>classmate</th>\n",
       "      <th>teacher</th>\n",
       "      <th>family</th>\n",
       "      <th>immediate family</th>\n",
       "      <th>lover</th>\n",
       "      <th>opponent</th>\n",
       "      <th>colleague</th>\n",
       "      <th>teammate</th>\n",
       "      <th>enemy</th>\n",
       "      <th>Harry's affection to him (-10 to 10, 0 is the initial value)</th>\n",
       "      <th>Harry's familiarity with him (0 to 10, 0 is the initial value)</th>\n",
       "      <th>His affection to Harry (0 to 10, 0 is the initial value)</th>\n",
       "      <th>His familiarity with Harry (0 to 10, 0 is the initial value)</th>\n",
       "    </tr>\n",
       "  </thead>\n",
       "  <tbody>\n",
       "    <tr>\n",
       "      <th>0</th>\n",
       "      <td>James</td>\n",
       "      <td>0</td>\n",
       "      <td>0</td>\n",
       "      <td>0</td>\n",
       "      <td>1</td>\n",
       "      <td>1</td>\n",
       "      <td>0</td>\n",
       "      <td>0</td>\n",
       "      <td>0</td>\n",
       "      <td>0</td>\n",
       "      <td>0</td>\n",
       "      <td>0</td>\n",
       "      <td>0</td>\n",
       "      <td>10</td>\n",
       "      <td>0</td>\n",
       "    </tr>\n",
       "    <tr>\n",
       "      <th>1</th>\n",
       "      <td>Lily</td>\n",
       "      <td>0</td>\n",
       "      <td>0</td>\n",
       "      <td>0</td>\n",
       "      <td>1</td>\n",
       "      <td>1</td>\n",
       "      <td>0</td>\n",
       "      <td>0</td>\n",
       "      <td>0</td>\n",
       "      <td>0</td>\n",
       "      <td>0</td>\n",
       "      <td>0</td>\n",
       "      <td>0</td>\n",
       "      <td>10</td>\n",
       "      <td>0</td>\n",
       "    </tr>\n",
       "    <tr>\n",
       "      <th>2</th>\n",
       "      <td>Petunia</td>\n",
       "      <td>0</td>\n",
       "      <td>0</td>\n",
       "      <td>0</td>\n",
       "      <td>1</td>\n",
       "      <td>0</td>\n",
       "      <td>0</td>\n",
       "      <td>0</td>\n",
       "      <td>0</td>\n",
       "      <td>0</td>\n",
       "      <td>0</td>\n",
       "      <td>0</td>\n",
       "      <td>0</td>\n",
       "      <td>-2</td>\n",
       "      <td>1</td>\n",
       "    </tr>\n",
       "    <tr>\n",
       "      <th>3</th>\n",
       "      <td>Vernon Dursley</td>\n",
       "      <td>0</td>\n",
       "      <td>0</td>\n",
       "      <td>0</td>\n",
       "      <td>1</td>\n",
       "      <td>0</td>\n",
       "      <td>0</td>\n",
       "      <td>0</td>\n",
       "      <td>0</td>\n",
       "      <td>0</td>\n",
       "      <td>0</td>\n",
       "      <td>0</td>\n",
       "      <td>0</td>\n",
       "      <td>-2</td>\n",
       "      <td>1</td>\n",
       "    </tr>\n",
       "    <tr>\n",
       "      <th>4</th>\n",
       "      <td>Dudley</td>\n",
       "      <td>0</td>\n",
       "      <td>0</td>\n",
       "      <td>0</td>\n",
       "      <td>0</td>\n",
       "      <td>0</td>\n",
       "      <td>0</td>\n",
       "      <td>0</td>\n",
       "      <td>0</td>\n",
       "      <td>0</td>\n",
       "      <td>0</td>\n",
       "      <td>0</td>\n",
       "      <td>0</td>\n",
       "      <td>0</td>\n",
       "      <td>0</td>\n",
       "    </tr>\n",
       "  </tbody>\n",
       "</table>\n",
       "</div>"
      ],
      "text/plain": [
       "             name  friend  classmate  teacher  family  immediate family   \n",
       "0           James       0          0        0       1                 1  \\\n",
       "1            Lily       0          0        0       1                 1   \n",
       "2         Petunia       0          0        0       1                 0   \n",
       "3  Vernon Dursley       0          0        0       1                 0   \n",
       "4          Dudley       0          0        0       0                 0   \n",
       "\n",
       "   lover  opponent  colleague  teammate  enemy   \n",
       "0      0         0          0         0      0  \\\n",
       "1      0         0          0         0      0   \n",
       "2      0         0          0         0      0   \n",
       "3      0         0          0         0      0   \n",
       "4      0         0          0         0      0   \n",
       "\n",
       "   Harry's affection to him (-10 to 10, 0 is the initial value)   \n",
       "0                                                  0             \\\n",
       "1                                                  0              \n",
       "2                                                  0              \n",
       "3                                                  0              \n",
       "4                                                  0              \n",
       "\n",
       "   Harry's familiarity with him (0 to 10, 0 is the initial value)   \n",
       "0                                                  0               \\\n",
       "1                                                  0                \n",
       "2                                                  0                \n",
       "3                                                  0                \n",
       "4                                                  0                \n",
       "\n",
       "   His affection to Harry (0 to 10, 0 is the initial value)   \n",
       "0                                                 10         \\\n",
       "1                                                 10          \n",
       "2                                                 -2          \n",
       "3                                                 -2          \n",
       "4                                                  0          \n",
       "\n",
       "   His familiarity with Harry (0 to 10, 0 is the initial value)  \n",
       "0                                                  0             \n",
       "1                                                  0             \n",
       "2                                                  1             \n",
       "3                                                  1             \n",
       "4                                                  0             "
      ]
     },
     "execution_count": 14,
     "metadata": {},
     "output_type": "execute_result"
    }
   ],
   "source": [
    "raw_data = pd.read_csv('./data/char_relations.csv')\n",
    "raw_data.head()"
   ]
  },
  {
   "cell_type": "markdown",
   "metadata": {},
   "source": [
    "### Creating Knowledge Graph"
   ]
  },
  {
   "cell_type": "code",
   "execution_count": 22,
   "metadata": {},
   "outputs": [],
   "source": [
    "def create_characters(tx, name):\n",
    "    tx.run(\"MERGE (p:Person {name: $name})\", name=name)"
   ]
  },
  {
   "cell_type": "code",
   "execution_count": 61,
   "metadata": {},
   "outputs": [],
   "source": [
    "def create_relationship(tx, person1, relationship, person2, attributes):\n",
    "    safe_relationship = relationship.replace(\" \", \"_\").upper()\n",
    "\n",
    "    query = (\n",
    "        f\"MATCH (a:Person {{name: $person1}}), (b:Person {{name: $person2}}) \"\n",
    "        f\"MERGE (a)-[r:{safe_relationship}]->(b) \"\n",
    "        \"SET r += $attributes\"\n",
    "    )\n",
    "    \n",
    "    tx.run(query, person1=person1, person2=person2, attributes=attributes)\n"
   ]
  },
  {
   "cell_type": "code",
   "execution_count": 62,
   "metadata": {},
   "outputs": [],
   "source": [
    "with driver.session() as session:\n",
    "    with open('./data/char_relations.csv', 'r') as file:\n",
    "        \n",
    "        session.write_transaction(create_characters, 'Harry')\n",
    "        \n",
    "        titles = next(file)\n",
    "        \n",
    "        titles = titles.strip().split(',')[1:-4]\n",
    "        \n",
    "        titles = [title.upper() for title in titles]\n",
    "        \n",
    "        for line in file:\n",
    "            \n",
    "            name = line.strip().split(',')[0]\n",
    "\n",
    "            relationships = line.strip().split(',')[1:-4]\n",
    "\n",
    "            # Create nodes\n",
    "            session.write_transaction(create_characters, name)\n",
    "\n",
    "            # Create relationships\n",
    "            relations = dict(zip(titles, relationships))\n",
    "            \n",
    "            existing_relations = [key for key, value in relations.items() if int(value) == 1]\n",
    "            \n",
    "            for existing_relation in existing_relations:\n",
    "                session.write_transaction(create_relationship, 'Harry', existing_relation, name, {})\n",
    "                session.write_transaction(create_relationship, name, existing_relation, 'Harry', {})\n",
    "\n",
    "driver.close()"
   ]
  }
 ],
 "metadata": {
  "kernelspec": {
   "display_name": "Python 3",
   "language": "python",
   "name": "python3"
  },
  "language_info": {
   "codemirror_mode": {
    "name": "ipython",
    "version": 3
   },
   "file_extension": ".py",
   "mimetype": "text/x-python",
   "name": "python",
   "nbconvert_exporter": "python",
   "pygments_lexer": "ipython3",
   "version": "3.11.3"
  }
 },
 "nbformat": 4,
 "nbformat_minor": 2
}
