{
  "cells": [
    {
      "cell_type": "code",
      "execution_count": 1,
      "metadata": {},
      "outputs": [],
      "source": [
        "%load_ext autoreload\n",
        "%autoreload 2"
      ]
    },
    {
      "cell_type": "code",
      "execution_count": 2,
      "metadata": {
        "colab": {
          "base_uri": "https://localhost:8080/"
        },
        "id": "LcCQ4oHbNQjy",
        "outputId": "591bd41d-17db-4ce2-d423-22b1a0270d63"
      },
      "outputs": [
        {
          "data": {
            "text/plain": [
              "'\\n!pip install python-dotenv\\n!pip install neo4j\\n!pip install pandas\\n!pip install langchain\\n!pip install transformers\\n!pip install langchain.chains\\n'"
            ]
          },
          "execution_count": 2,
          "metadata": {},
          "output_type": "execute_result"
        }
      ],
      "source": [
        "'''\n",
        "!pip install python-dotenv\n",
        "!pip install neo4j\n",
        "!pip install pandas\n",
        "!pip install langchain\n",
        "!pip install transformers\n",
        "!pip install langchain.chains\n",
        "'''\n",
        "\n",
        "# Note: will do a requirements.txt file later"
      ]
    },
    {
      "cell_type": "code",
      "execution_count": 3,
      "metadata": {
        "colab": {
          "base_uri": "https://localhost:8080/",
          "height": 616
        },
        "id": "8XWyJ2x4O3oH",
        "outputId": "4ecca868-1677-4b0f-a16f-f3066b3fcfc7"
      },
      "outputs": [],
      "source": [
        "from dotenv import load_dotenv\n",
        "import os\n",
        "from neo4j import GraphDatabase\n",
        "import pandas as pd\n",
        "from xlsx_to_csv import *\n",
        "import warnings\n",
        "warnings.filterwarnings(\"ignore\")\n",
        "\n",
        "load_dotenv()\n",
        "\n",
        "NEO4J_URI = os.getenv('NEO4J_URI')\n",
        "NEO4J_USERNAME = os.getenv('NEO4J_USERNAME')\n",
        "NEO4J_PASSWORD = os.getenv('NEO4J_PASSWORD')\n",
        "\n",
        "URI = NEO4J_URI\n",
        "AUTH = (NEO4J_USERNAME, NEO4J_PASSWORD)\n",
        "\n",
        "OPENAI_API_KEY = os.getenv('OPENAI_API_KEY')\n",
        "\n",
        "\n",
        "with GraphDatabase.driver(URI, auth=AUTH) as driver:\n",
        "    driver.verify_connectivity()"
      ]
    },
    {
      "cell_type": "code",
      "execution_count": 4,
      "metadata": {
        "colab": {
          "base_uri": "https://localhost:8080/",
          "height": 616
        },
        "id": "sU3o1X6lMyMo",
        "outputId": "e054bacf-a86e-4957-c6e4-a8ed4b9feaa2"
      },
      "outputs": [
        {
          "name": "stdout",
          "output_type": "stream",
          "text": [
            "Knowledge Graph created with 33 nodes and 96 relationships.\n"
          ]
        }
      ],
      "source": [
        "from kg import *\n",
        "\n",
        "create_kg()"
      ]
    },
    {
      "cell_type": "code",
      "execution_count": 5,
      "metadata": {
        "id": "u34eSpAPO1Ky"
      },
      "outputs": [],
      "source": [
        "def query_knowledge_graph(query):\n",
        "    with driver.session() as session:\n",
        "        result = session.run(\n",
        "            \"\"\"\n",
        "            MATCH (n:Person)-[r]->(m:Person)\n",
        "            WHERE n.name CONTAINS $query OR m.name CONTAINS $query\n",
        "            RETURN n.name, r, m.name\n",
        "            \"\"\",\n",
        "            query=query\n",
        "        )\n",
        "        return result.data()\n"
      ]
    },
    {
      "cell_type": "code",
      "execution_count": 6,
      "metadata": {},
      "outputs": [
        {
          "name": "stdout",
          "output_type": "stream",
          "text": [
            "Node properties:\n",
            "Person {name: STRING}\n",
            "Relationship properties:\n",
            "\n",
            "The relationships:\n",
            "(:Person)-[:TEAMMATE]->(:Person)\n",
            "(:Person)-[:FRIEND]->(:Person)\n",
            "(:Person)-[:CLASSMATE]->(:Person)\n",
            "(:Person)-[:FAMILY]->(:Person)\n",
            "(:Person)-[:IMMEDIATE_FAMILY]->(:Person)\n",
            "(:Person)-[:LOVER]->(:Person)\n",
            "(:Person)-[:OPPONENT]->(:Person)\n",
            "(:Person)-[:ENEMY]->(:Person)\n",
            "(:Person)-[:TEACHER]->(:Person)\n"
          ]
        }
      ],
      "source": [
        "from langchain_community.graphs import Neo4jGraph\n",
        "\n",
        "graph = Neo4jGraph()\n",
        "\n",
        "graph.refresh_schema()\n",
        "\n",
        "print(graph.schema)"
      ]
    },
    {
      "cell_type": "code",
      "execution_count": 12,
      "metadata": {},
      "outputs": [
        {
          "name": "stdout",
          "output_type": "stream",
          "text": [
            "\n",
            "\n",
            "\u001b[1m> Entering new GraphCypherQAChain chain...\u001b[0m\n",
            "Generated Cypher:\n",
            "\u001b[32;1m\u001b[1;3mcypher\n",
            "MATCH (p:Person) WHERE p.name <> 'Harry' AND NOT (p)-[:FRIEND]->(:Person {name: 'Harry'}) RETURN p\n",
            "\u001b[0m\n",
            "Full Context:\n",
            "\u001b[32;1m\u001b[1;3m[{'p': {'name': 'Piers'}}, {'p': {'name': 'James'}}, {'p': {'name': 'Lily'}}, {'p': {'name': 'Petunia'}}, {'p': {'name': 'Vernon Dursley'}}, {'p': {'name': 'Dudley'}}, {'p': {'name': 'Dumbledore'}}, {'p': {'name': 'McGonagall'}}, {'p': {'name': 'Snape'}}, {'p': {'name': 'Charlie'}}]\u001b[0m\n",
            "\n",
            "\u001b[1m> Finished chain.\u001b[0m\n"
          ]
        },
        {
          "data": {
            "text/plain": [
              "{'query': 'List all of the characters who are not friends with Harry',\n",
              " 'result': 'The characters who are not friends with Harry are Piers, James, Lily, Petunia, Vernon Dursley, Dudley, Dumbledore, McGonagall, Snape, and Charlie.'}"
            ]
          },
          "execution_count": 12,
          "metadata": {},
          "output_type": "execute_result"
        }
      ],
      "source": [
        "from langchain.chains import GraphCypherQAChain\n",
        "from langchain_openai import ChatOpenAI\n",
        "\n",
        "llm = ChatOpenAI(\n",
        "    model=\"gpt-4o-mini\",\n",
        "    temperature=0,\n",
        "    max_tokens=None,\n",
        "    timeout=None,\n",
        "    max_retries=2\n",
        ")\n",
        "\n",
        "chain = GraphCypherQAChain.from_llm(graph=graph, llm=llm, verbose=True)\n",
        "response = chain.invoke({'query': 'List all of the characters who are not friends with Harry'})\n",
        "response"
      ]
    },
    {
      "cell_type": "code",
      "execution_count": 8,
      "metadata": {},
      "outputs": [
        {
          "data": {
            "text/plain": [
              "SyncPage[Model](data=[Model(id='gpt-4-1106-preview', created=1698957206, object='model', owned_by='system'), Model(id='text-embedding-3-small', created=1705948997, object='model', owned_by='system'), Model(id='tts-1-1106', created=1699053241, object='model', owned_by='system'), Model(id='dall-e-2', created=1698798177, object='model', owned_by='system'), Model(id='tts-1', created=1681940951, object='model', owned_by='openai-internal'), Model(id='tts-1-hd-1106', created=1699053533, object='model', owned_by='system'), Model(id='tts-1-hd', created=1699046015, object='model', owned_by='system'), Model(id='dall-e-3', created=1698785189, object='model', owned_by='system'), Model(id='whisper-1', created=1677532384, object='model', owned_by='openai-internal'), Model(id='gpt-4-turbo', created=1712361441, object='model', owned_by='system'), Model(id='gpt-4-turbo-2024-04-09', created=1712601677, object='model', owned_by='system'), Model(id='gpt-4-0125-preview', created=1706037612, object='model', owned_by='system'), Model(id='gpt-3.5-turbo', created=1677610602, object='model', owned_by='openai'), Model(id='gpt-4-turbo-preview', created=1706037777, object='model', owned_by='system'), Model(id='gpt-3.5-turbo-0125', created=1706048358, object='model', owned_by='system'), Model(id='gpt-3.5-turbo-0613', created=1686587434, object='model', owned_by='openai'), Model(id='gpt-4o-mini-2024-07-18', created=1721172717, object='model', owned_by='system'), Model(id='gpt-3.5-turbo-1106', created=1698959748, object='model', owned_by='system'), Model(id='gpt-4o-mini', created=1721172741, object='model', owned_by='system'), Model(id='gpt-3.5-turbo-16k', created=1683758102, object='model', owned_by='openai-internal'), Model(id='gpt-3.5-turbo-instruct-0914', created=1694122472, object='model', owned_by='system'), Model(id='gpt-3.5-turbo-0301', created=1677649963, object='model', owned_by='openai'), Model(id='gpt-4', created=1687882411, object='model', owned_by='openai'), Model(id='gpt-4-0613', created=1686588896, object='model', owned_by='openai'), Model(id='gpt-3.5-turbo-instruct', created=1692901427, object='model', owned_by='system'), Model(id='chatgpt-4o-latest', created=1723515131, object='model', owned_by='system'), Model(id='gpt-4o', created=1715367049, object='model', owned_by='system'), Model(id='gpt-4o-2024-05-13', created=1715368132, object='model', owned_by='system'), Model(id='gpt-4o-2024-08-06', created=1722814719, object='model', owned_by='system'), Model(id='babbage-002', created=1692634615, object='model', owned_by='system'), Model(id='davinci-002', created=1692634301, object='model', owned_by='system'), Model(id='gpt-3.5-turbo-16k-0613', created=1685474247, object='model', owned_by='openai'), Model(id='text-embedding-3-large', created=1705953180, object='model', owned_by='system'), Model(id='text-embedding-ada-002', created=1671217299, object='model', owned_by='openai-internal'), Model(id='davinci:ft-cathayholdings-2023-02-19-04-07-23', created=1676779643, object='model', owned_by='cathayholdings-1')], object='list')"
            ]
          },
          "execution_count": 8,
          "metadata": {},
          "output_type": "execute_result"
        }
      ],
      "source": [
        "from openai import OpenAI\n",
        "import os\n",
        "\n",
        "client = OpenAI(\n",
        "    api_key = os.getenv('OPENAI_API_KEY')\n",
        ")\n",
        "    \n",
        "models = client.models.list()\n",
        "\n",
        "models"
      ]
    }
  ],
  "metadata": {
    "accelerator": "GPU",
    "colab": {
      "gpuType": "T4",
      "provenance": []
    },
    "kernelspec": {
      "display_name": "Python 3",
      "name": "python3"
    },
    "language_info": {
      "codemirror_mode": {
        "name": "ipython",
        "version": 3
      },
      "file_extension": ".py",
      "mimetype": "text/x-python",
      "name": "python",
      "nbconvert_exporter": "python",
      "pygments_lexer": "ipython3",
      "version": "3.11.3"
    }
  },
  "nbformat": 4,
  "nbformat_minor": 0
}
